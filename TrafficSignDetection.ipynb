{
 "cells": [
  {
   "cell_type": "code",
   "execution_count": 17,
   "id": "1c672572",
   "metadata": {},
   "outputs": [],
   "source": [
    "import keras\n",
    "import numpy as np \n",
    "import pandas as pd \n",
    "import matplotlib.pyplot as plt\n",
    "import cv2\n",
    "import tensorflow as tf\n",
    "from PIL import Image\n",
    "from tensorflow.keras.preprocessing import image\n",
    "import os\n",
    "from sklearn.model_selection import train_test_split\n",
    "from tensorflow.keras.utils import to_categorical\n",
    "from keras.models import Sequential, load_model\n",
    "from keras.layers import Conv2D, MaxPooling2D, Dense, Flatten, Dropout,Activation\n",
    "import random\n",
    "from tensorflow.keras.preprocessing.image import ImageDataGenerator,load_img\n",
    "from PIL import Image\n",
    "from keras.callbacks import ReduceLROnPlateau, ModelCheckpoint, EarlyStopping\n",
    "import seaborn as sn"
   ]
  },
  {
   "cell_type": "code",
   "execution_count": 2,
   "id": "1db981a6",
   "metadata": {},
   "outputs": [],
   "source": [
    "cur_path = r'C:\\Users\\hp\\Documents\\TrafficSign' "
   ]
  },
  {
   "cell_type": "code",
   "execution_count": 3,
   "id": "a77ccf8e",
   "metadata": {},
   "outputs": [],
   "source": [
    "data = []\n",
    "labels = []\n",
    "classes = 43\n",
    " \n",
    "\n",
    "#Retrieving the images and their labels \n",
    "for i in range(classes):\n",
    "    path = os.path.join(cur_path,'train',str(i))\n",
    "    images = os.listdir(path)\n",
    "\n",
    "    for a in images:\n",
    "        try:\n",
    "            image = Image.open(path + '\\\\'+ a)\n",
    "            image = image.resize((30,30))\n",
    "            image = np.array(image)\n",
    "    \n",
    "            #data.append(image)\n",
    "            #labels.append(i)\n",
    "            data.append([image,i]) #appending all value together \n",
    "        except:\n",
    "            print(\"Error loading image\")"
   ]
  },
  {
   "cell_type": "code",
   "execution_count": 4,
   "id": "0375890f",
   "metadata": {},
   "outputs": [],
   "source": [
    "random.shuffle(data)"
   ]
  },
  {
   "cell_type": "code",
   "execution_count": 5,
   "id": "afefafe5",
   "metadata": {},
   "outputs": [
    {
     "name": "stdout",
     "output_type": "stream",
     "text": [
      "39209\n"
     ]
    }
   ],
   "source": [
    "print(len(data))"
   ]
  },
  {
   "cell_type": "code",
   "execution_count": 6,
   "id": "b67acf90",
   "metadata": {},
   "outputs": [],
   "source": [
    "x = []\n",
    "y = []\n",
    "\n",
    "for features,label in data:\n",
    "    x.append(features)\n",
    "    y.append(label)"
   ]
  },
  {
   "cell_type": "code",
   "execution_count": 7,
   "id": "fae82ebf",
   "metadata": {},
   "outputs": [],
   "source": [
    "x = np.array(x)\n",
    "y = np.array(y)"
   ]
  },
  {
   "cell_type": "code",
   "execution_count": 8,
   "id": "872de4eb",
   "metadata": {},
   "outputs": [],
   "source": [
    "X_train, X_val, y_train, y_val = train_test_split(x, y, test_size=0.2, random_state=42)"
   ]
  },
  {
   "cell_type": "code",
   "execution_count": 9,
   "id": "ae813205",
   "metadata": {},
   "outputs": [],
   "source": [
    "X_train = X_train/255.0\n",
    "X_val = X_val/255.0"
   ]
  },
  {
   "cell_type": "code",
   "execution_count": 10,
   "id": "97eb35a6",
   "metadata": {},
   "outputs": [
    {
     "name": "stdout",
     "output_type": "stream",
     "text": [
      "Shape of train images is: (31367, 30, 30, 3)\n",
      "Shape of labels is: (31367,)\n"
     ]
    }
   ],
   "source": [
    "print(\"Shape of train images is:\", X_train.shape)\n",
    "print(\"Shape of labels is:\", y_train.shape)"
   ]
  },
  {
   "cell_type": "code",
   "execution_count": 11,
   "id": "f323173d",
   "metadata": {},
   "outputs": [
    {
     "name": "stdout",
     "output_type": "stream",
     "text": [
      "WARNING:tensorflow:From C:\\Users\\hp\\anaconda3\\lib\\site-packages\\keras\\src\\backend.py:873: The name tf.get_default_graph is deprecated. Please use tf.compat.v1.get_default_graph instead.\n",
      "\n",
      "WARNING:tensorflow:From C:\\Users\\hp\\anaconda3\\lib\\site-packages\\keras\\src\\layers\\pooling\\max_pooling2d.py:161: The name tf.nn.max_pool is deprecated. Please use tf.nn.max_pool2d instead.\n",
      "\n",
      "WARNING:tensorflow:From C:\\Users\\hp\\anaconda3\\lib\\site-packages\\keras\\src\\optimizers\\__init__.py:309: The name tf.train.Optimizer is deprecated. Please use tf.compat.v1.train.Optimizer instead.\n",
      "\n"
     ]
    }
   ],
   "source": [
    "model = Sequential()\n",
    "model.add(Conv2D(32, (3, 3), input_shape=(30, 30, 3), padding='same'))\n",
    "model.add(Activation('relu'))\n",
    "model.add(MaxPooling2D(pool_size=(2, 2)))\n",
    "\n",
    "model.add(Conv2D(64, (3, 3), padding='same'))\n",
    "model.add(Activation('relu'))\n",
    "model.add(MaxPooling2D(pool_size=(2, 2)))\n",
    "\n",
    "model.add(Conv2D(128, (3, 3), padding='same'))\n",
    "model.add(Activation('relu'))\n",
    "model.add(MaxPooling2D(pool_size=(2, 2)))\n",
    "\n",
    "model.add(Flatten())  # this converts our 3D feature maps to 1D feature vectors\n",
    "model.add(Dense(128))\n",
    "model.add(Activation('relu'))\n",
    "model.add(Dropout(0.5))\n",
    "model.add(Dense(43))\n",
    "model.add(Activation('softmax'))\n",
    "\n",
    "model.compile(loss='sparse_categorical_crossentropy', optimizer='adam', metrics=['accuracy'])"
   ]
  },
  {
   "cell_type": "code",
   "execution_count": 14,
   "id": "d2c42a3a",
   "metadata": {},
   "outputs": [],
   "source": [
    "ES = EarlyStopping(monitor='val_accuracy', min_delta=0, verbose=1, restore_best_weights=True, patience=10, mode='max')\n",
    "RLP = ReduceLROnPlateau(monitor='val_loss', factor=0.2, patience=3, min_lr=0.0001)\n",
    "MCP = ModelCheckpoint('Best_Model.keras', verbose=1, save_best_only=True, monitor='val_accuracy', mode='max')"
   ]
  },
  {
   "cell_type": "code",
   "execution_count": 15,
   "id": "f530344a",
   "metadata": {},
   "outputs": [
    {
     "name": "stdout",
     "output_type": "stream",
     "text": [
      "Epoch 1/15\n",
      "WARNING:tensorflow:From C:\\Users\\hp\\anaconda3\\lib\\site-packages\\keras\\src\\utils\\tf_utils.py:492: The name tf.ragged.RaggedTensorValue is deprecated. Please use tf.compat.v1.ragged.RaggedTensorValue instead.\n",
      "\n",
      "WARNING:tensorflow:From C:\\Users\\hp\\anaconda3\\lib\\site-packages\\keras\\src\\engine\\base_layer_utils.py:384: The name tf.executing_eagerly_outside_functions is deprecated. Please use tf.compat.v1.executing_eagerly_outside_functions instead.\n",
      "\n",
      "980/981 [============================>.] - ETA: 0s - loss: 2.3274 - accuracy: 0.3162\n",
      "Epoch 1: val_accuracy improved from -inf to 0.63083, saving model to Best_Model.keras\n",
      "981/981 [==============================] - 19s 18ms/step - loss: 2.3264 - accuracy: 0.3164 - val_loss: 1.1529 - val_accuracy: 0.6308 - lr: 0.0010\n",
      "Epoch 2/15\n",
      "981/981 [==============================] - ETA: 0s - loss: 1.0913 - accuracy: 0.6355\n",
      "Epoch 2: val_accuracy improved from 0.63083 to 0.87401, saving model to Best_Model.keras\n",
      "981/981 [==============================] - 17s 18ms/step - loss: 1.0913 - accuracy: 0.6355 - val_loss: 0.4072 - val_accuracy: 0.8740 - lr: 0.0010\n",
      "Epoch 3/15\n",
      "981/981 [==============================] - ETA: 0s - loss: 0.6239 - accuracy: 0.7904\n",
      "Epoch 3: val_accuracy improved from 0.87401 to 0.95142, saving model to Best_Model.keras\n",
      "981/981 [==============================] - 18s 18ms/step - loss: 0.6239 - accuracy: 0.7904 - val_loss: 0.1665 - val_accuracy: 0.9514 - lr: 0.0010\n",
      "Epoch 4/15\n",
      "981/981 [==============================] - ETA: 0s - loss: 0.3884 - accuracy: 0.8707\n",
      "Epoch 4: val_accuracy improved from 0.95142 to 0.97424, saving model to Best_Model.keras\n",
      "981/981 [==============================] - 31s 32ms/step - loss: 0.3884 - accuracy: 0.8707 - val_loss: 0.0827 - val_accuracy: 0.9742 - lr: 0.0010\n",
      "Epoch 5/15\n",
      "980/981 [============================>.] - ETA: 0s - loss: 0.2777 - accuracy: 0.9101\n",
      "Epoch 5: val_accuracy improved from 0.97424 to 0.98164, saving model to Best_Model.keras\n",
      "981/981 [==============================] - 30s 31ms/step - loss: 0.2775 - accuracy: 0.9102 - val_loss: 0.0647 - val_accuracy: 0.9816 - lr: 0.0010\n",
      "Epoch 6/15\n",
      "981/981 [==============================] - ETA: 0s - loss: 0.2226 - accuracy: 0.9294\n",
      "Epoch 6: val_accuracy improved from 0.98164 to 0.98801, saving model to Best_Model.keras\n",
      "981/981 [==============================] - 30s 31ms/step - loss: 0.2226 - accuracy: 0.9294 - val_loss: 0.0396 - val_accuracy: 0.9880 - lr: 0.0010\n",
      "Epoch 7/15\n",
      "980/981 [============================>.] - ETA: 0s - loss: 0.1788 - accuracy: 0.9428\n",
      "Epoch 7: val_accuracy improved from 0.98801 to 0.98865, saving model to Best_Model.keras\n",
      "981/981 [==============================] - 30s 31ms/step - loss: 0.1787 - accuracy: 0.9428 - val_loss: 0.0398 - val_accuracy: 0.9887 - lr: 0.0010\n",
      "Epoch 8/15\n",
      "980/981 [============================>.] - ETA: 0s - loss: 0.1499 - accuracy: 0.9535\n",
      "Epoch 8: val_accuracy did not improve from 0.98865\n",
      "981/981 [==============================] - 30s 30ms/step - loss: 0.1499 - accuracy: 0.9534 - val_loss: 0.0440 - val_accuracy: 0.9867 - lr: 0.0010\n",
      "Epoch 9/15\n",
      "981/981 [==============================] - ETA: 0s - loss: 0.1296 - accuracy: 0.9598\n",
      "Epoch 9: val_accuracy improved from 0.98865 to 0.99439, saving model to Best_Model.keras\n",
      "981/981 [==============================] - 29s 30ms/step - loss: 0.1296 - accuracy: 0.9598 - val_loss: 0.0194 - val_accuracy: 0.9944 - lr: 0.0010\n",
      "Epoch 10/15\n",
      "981/981 [==============================] - ETA: 0s - loss: 0.1233 - accuracy: 0.9608\n",
      "Epoch 10: val_accuracy did not improve from 0.99439\n",
      "981/981 [==============================] - 26s 27ms/step - loss: 0.1233 - accuracy: 0.9608 - val_loss: 0.0333 - val_accuracy: 0.9903 - lr: 0.0010\n",
      "Epoch 11/15\n",
      "981/981 [==============================] - ETA: 0s - loss: 0.1048 - accuracy: 0.9678\n",
      "Epoch 11: val_accuracy improved from 0.99439 to 0.99528, saving model to Best_Model.keras\n",
      "981/981 [==============================] - 30s 31ms/step - loss: 0.1048 - accuracy: 0.9678 - val_loss: 0.0156 - val_accuracy: 0.9953 - lr: 0.0010\n",
      "Epoch 12/15\n",
      "980/981 [============================>.] - ETA: 0s - loss: 0.0961 - accuracy: 0.9696\n",
      "Epoch 12: val_accuracy improved from 0.99528 to 0.99643, saving model to Best_Model.keras\n",
      "981/981 [==============================] - 30s 31ms/step - loss: 0.0960 - accuracy: 0.9696 - val_loss: 0.0147 - val_accuracy: 0.9964 - lr: 0.0010\n",
      "Epoch 13/15\n",
      "980/981 [============================>.] - ETA: 0s - loss: 0.0922 - accuracy: 0.9718\n",
      "Epoch 13: val_accuracy did not improve from 0.99643\n",
      "981/981 [==============================] - 30s 31ms/step - loss: 0.0921 - accuracy: 0.9718 - val_loss: 0.0174 - val_accuracy: 0.9948 - lr: 0.0010\n",
      "Epoch 14/15\n",
      "981/981 [==============================] - ETA: 0s - loss: 0.0895 - accuracy: 0.9726\n",
      "Epoch 14: val_accuracy did not improve from 0.99643\n",
      "981/981 [==============================] - 30s 31ms/step - loss: 0.0895 - accuracy: 0.9726 - val_loss: 0.0187 - val_accuracy: 0.9954 - lr: 0.0010\n",
      "Epoch 15/15\n",
      "980/981 [============================>.] - ETA: 0s - loss: 0.0781 - accuracy: 0.9759\n",
      "Epoch 15: val_accuracy did not improve from 0.99643\n",
      "981/981 [==============================] - 31s 31ms/step - loss: 0.0780 - accuracy: 0.9759 - val_loss: 0.0120 - val_accuracy: 0.9958 - lr: 0.0010\n"
     ]
    }
   ],
   "source": [
    "aug = ImageDataGenerator(\n",
    "    rotation_range=10,\n",
    "    zoom_range=0.15,\n",
    "    width_shift_range=0.1,\n",
    "    height_shift_range=0.1,\n",
    "    shear_range=0.15,\n",
    "    horizontal_flip=False,\n",
    "    vertical_flip=False)\n",
    "\n",
    "history=model.fit(aug.flow(X_train, y_train, batch_size=32), epochs=15, validation_data=(X_val, y_val),callbacks=[ES, RLP, MCP])\n"
   ]
  },
  {
   "cell_type": "code",
   "execution_count": 18,
   "id": "0379ca21",
   "metadata": {},
   "outputs": [
    {
     "data": {
      "image/png": "[encoded data removed]",
      "text/plain": [
       "<Figure size 640x480 with 1 Axes>"
      ]
     },
     "metadata": {},
     "output_type": "display_data"
    },
    {
     "data": {
      "image/png": "[encoded data removed]",
      "text/plain": [
       "<Figure size 640x480 with 1 Axes>"
      ]
     },
     "metadata": {},
     "output_type": "display_data"
    }
   ],
   "source": [
    "sn.lineplot(x = np.arange(1, len(history.history['accuracy'])+1), y = history.history['accuracy'], color='lightgreen')\n",
    "sn.lineplot(x = np.arange(1, len(history.history['val_accuracy'])+1), y = history.history['val_accuracy'], color='red')\n",
    "plt.xlabel(\"Epochs\")\n",
    "plt.ylabel(\"Accuracy\")\n",
    "plt.title(\"The Accuracy vs Val_Accuracy Trend\")\n",
    "plt.legend(labels=['Accuracy', 'Val_Accuracy'])\n",
    "plt.show()\n",
    "\n",
    "sn.lineplot(x = np.arange(1, len(history.history['accuracy'])+1), y = history.history['loss'], color='lightgreen')\n",
    "sn.lineplot(x = np.arange(1, len(history.history['val_accuracy'])+1), y = history.history['val_loss'], color='red')\n",
    "plt.xlabel(\"Epochs\")\n",
    "plt.ylabel(\"Accuracy\")\n",
    "plt.title(\"The Loss vs Val_Loss Trend\")\n",
    "plt.legend(labels=['Loss', 'Val_Loss'])\n",
    "plt.show()"
   ]
  },
  {
   "cell_type": "code",
   "execution_count": 19,
   "id": "e83b3c8c",
   "metadata": {},
   "outputs": [
    {
     "name": "stdout",
     "output_type": "stream",
     "text": [
      "246/246 [==============================] - 1s 2ms/step - loss: 0.0000e+00 - accuracy: 0.0000e+00\n",
      "246/246 [==============================] - 2s 7ms/step\n",
      "0.0 0.0\n"
     ]
    }
   ],
   "source": [
    "loss_score, accuracy_score = model.evaluate(X_val)\n",
    "predictions = model.predict(X_val)\n",
    "\n",
    "print(accuracy_score, loss_score)"
   ]
  },
  {
   "cell_type": "code",
   "execution_count": 24,
   "id": "0bb1dce1",
   "metadata": {},
   "outputs": [],
   "source": [
    "path=\"C:/Users/hp/Documents/TrafficSign/Test/00130.png\""
   ]
  },
  {
   "cell_type": "code",
   "execution_count": 25,
   "id": "8780f535",
   "metadata": {},
   "outputs": [
    {
     "data": {
      "image/png": "[encoded data removed]",
      "text/plain": [
       "<Figure size 640x480 with 1 Axes>"
      ]
     },
     "metadata": {},
     "output_type": "display_data"
    },
    {
     "name": "stdout",
     "output_type": "stream",
     "text": [
      "1/1 [==============================] - 0s 23ms/step\n",
      "Go straight or right\n"
     ]
    }
   ],
   "source": [
    "img = image.load_img(path, target_size = (30,30)) #load the image\n",
    "plt.imshow(img)\n",
    "plt.axis('off')  # Optional: Turn off the axis\n",
    "plt.show()\n",
    "x = image.img_to_array(img)\n",
    "x = np.expand_dims(x, axis=0)\n",
    "images = np.vstack([x])\n",
    "\n",
    "value = classes = np.argmax(model.predict(images,batch_size=32),axis=-1) #predict the label for the image\n",
    "\n",
    "if classes[0]==0:\n",
    "    print('Speed limit (20km/h)') #print the content\n",
    "\n",
    "elif classes[0]==1:\n",
    "    print('Speed limit (30km/h)') #print the content\n",
    "\n",
    "elif classes[0]==2:\n",
    "    print('Speed limit (50km/h)') #print the content\n",
    "\n",
    "elif classes[0]==3:\n",
    "    print(' Speed limit (60km/h)') #print the content\n",
    "\n",
    "elif classes[0]==4:\n",
    "    print('Speed limit (70km/h)') #print the content\n",
    "\n",
    "elif classes[0]==5:\n",
    "    print('Speed limit (80km/h)') #print the content\n",
    "\n",
    "elif classes[0]==6:\n",
    "    print('End of speed limit (80km/h)') #print the content\n",
    "\n",
    "elif classes[0]==7:\n",
    "    print('Speed limit (100km/h)') #print the content\n",
    "\n",
    "elif classes[0]==8:\n",
    "    print('Speed limit (120km/h)') #print the content\n",
    "\n",
    "elif classes[0]==9:\n",
    "    print('No passing') #print the content\n",
    "\n",
    "elif classes[0]==10:\n",
    "    print('No passing veh over 3.5 tons') #print the content \n",
    "\n",
    "elif classes[0]==11:\n",
    "    print(', Right-of-way at intersection') #print the content\n",
    "\n",
    "elif classes[0]==12:\n",
    "    print('Priority road') #print the content\n",
    "\n",
    "elif classes[0]==13:\n",
    "    print('Yield') #print the content       \n",
    "\n",
    "elif classes[0]==14:\n",
    "    print('Stop') #print the content       \n",
    "\n",
    "elif classes[0]==15:\n",
    "    print('No vehicles') #print the content\n",
    "\n",
    "elif classes[0]==16:\n",
    "    print('Veh > 3.5 tons prohibited') #print the content       \n",
    "\n",
    "elif classes[0]==17:\n",
    "    print('No entry') #print the content        \n",
    "\n",
    "elif classes[0]==18:\n",
    "    print('General caution') #print the content       \n",
    "\n",
    "elif classes[0]==19:\n",
    "    print('Dangerous curve left') #print the content        \n",
    "\n",
    "elif classes[0]==20:\n",
    "    print('Dangerous curve right') #print the content        \n",
    "\n",
    "elif classes[0]==21:\n",
    "    print('Double curve') #print the content       \n",
    "\n",
    "elif classes[0]==22:\n",
    "    print('Bumpy road') #print the content        \n",
    "\n",
    "elif classes[0]==23:\n",
    "    print('Slippery road') #print the content        \n",
    "\n",
    "elif classes[0]==24:\n",
    "    print('Road narrows on the right') #print the content               \n",
    "\n",
    "elif classes[0]==25:\n",
    "    print('Road work') #print the content        \n",
    "\n",
    "elif classes[0]==26:\n",
    "    print('Traffic signals') #print the content\n",
    "\n",
    "elif classes[0]==27:\n",
    "    print('Pedestrians') #print the content       \n",
    "\n",
    "elif classes[0]==28:\n",
    "    print('Children crossing') #print the content\n",
    "\n",
    "elif classes[0]==29:\n",
    "    print( 'Bicycles crossing') #print the content\n",
    "\n",
    "elif classes[0]==30:\n",
    "    print('Beware of ice/snow') #print the content        \n",
    "\n",
    "elif classes[0]==31:\n",
    "    print('Wild animals crossing') #print the content        \n",
    "\n",
    "elif classes[0]==32:\n",
    "    print('End speed + passing limits') #print the content        \n",
    "\n",
    "elif classes[0]==33:\n",
    "    print('Turn right ahead') #print the content\n",
    "\n",
    "elif classes[0]==34:\n",
    "    print('Turn left ahead') #print the content        \n",
    "\n",
    "elif classes[0]==35:\n",
    "    print('Ahead only') #print the content        \n",
    "\n",
    "elif classes[0]==36:\n",
    "    print('Go straight or right') #print the content\n",
    "\n",
    "elif classes[0]==37:\n",
    "    print('Go straight or left') #print the content        \n",
    "\n",
    "elif classes[0]==38:\n",
    "    print('Keep right') #print the content\n",
    "\n",
    "elif classes[0]==39:\n",
    "    print('Keep left') #print the content       \n",
    "\n",
    "elif classes[0]==40:\n",
    "    print('Roundabout mandatory') #print the content\n",
    "\n",
    "elif classes[0]==41:\n",
    "    print('End of no passing') #print the content        \n",
    "\n",
    "else:\n",
    "    print('End no passing veh > 3.5 tons') #print the content"
   ]
  },
  {
   "cell_type": "code",
   "execution_count": null,
   "id": "e1112bb2",
   "metadata": {},
   "outputs": [],
   "source": []
  }
 ],
 "metadata": {
  "kernelspec": {
   "display_name": "Python 3 (ipykernel)",
   "language": "python",
   "name": "python3"
  },
  "language_info": {
   "codemirror_mode": {
    "name": "ipython",
    "version": 3
   },
   "file_extension": ".py",
   "mimetype": "text/x-python",
   "name": "python",
   "nbconvert_exporter": "python",
   "pygments_lexer": "ipython3",
   "version": "3.9.13"
  }
 },
 "nbformat": 4,
 "nbformat_minor": 5
}
